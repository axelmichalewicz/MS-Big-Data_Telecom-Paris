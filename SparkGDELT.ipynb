{
 "cells": [
  {
   "cell_type": "code",
   "execution_count": 1,
   "metadata": {},
   "outputs": [
    {
     "data": {
      "application/vnd.jupyter.widget-view+json": {
       "model_id": "a26c87c814094bd9801082481bbec0ec",
       "version_major": 2,
       "version_minor": 0
      },
      "text/plain": [
       "VBox()"
      ]
     },
     "metadata": {},
     "output_type": "display_data"
    },
    {
     "name": "stdout",
     "output_type": "stream",
     "text": [
      "Starting Spark application\n"
     ]
    },
    {
     "data": {
      "text/html": [
       "<table>\n",
       "<tr><th>ID</th><th>YARN Application ID</th><th>Kind</th><th>State</th><th>Spark UI</th><th>Driver log</th><th>Current session?</th></tr><tr><td>0</td><td>application_1611235676948_0001</td><td>spark</td><td>idle</td><td><a target=\"_blank\" href=\"http://ip-172-31-41-79.ec2.internal:20888/proxy/application_1611235676948_0001/\" >Link</a></td><td><a target=\"_blank\" href=\"http://ip-172-31-39-138.ec2.internal:8042/node/containerlogs/container_1611235676948_0001_01_000001/livy\" >Link</a></td><td>✔</td></tr></table>"
      ],
      "text/plain": [
       "<IPython.core.display.HTML object>"
      ]
     },
     "metadata": {},
     "output_type": "display_data"
    },
    {
     "data": {
      "application/vnd.jupyter.widget-view+json": {
       "model_id": "",
       "version_major": 2,
       "version_minor": 0
      },
      "text/plain": [
       "FloatProgress(value=0.0, bar_style='info', description='Progress:', layout=Layout(height='25px', width='50%'),…"
      ]
     },
     "metadata": {},
     "output_type": "display_data"
    },
    {
     "name": "stdout",
     "output_type": "stream",
     "text": [
      "SparkSession available as 'spark'.\n"
     ]
    },
    {
     "data": {
      "application/vnd.jupyter.widget-view+json": {
       "model_id": "",
       "version_major": 2,
       "version_minor": 0
      },
      "text/plain": [
       "FloatProgress(value=0.0, bar_style='info', description='Progress:', layout=Layout(height='25px', width='50%'),…"
      ]
     },
     "metadata": {},
     "output_type": "display_data"
    },
    {
     "name": "stdout",
     "output_type": "stream",
     "text": [
      "import breeze.linalg.Matrix.castOps\n",
      "import breeze.linalg.Vector.castOps\n",
      "import org.apache.spark.SparkConf\n",
      "import org.apache.spark.sql.functions.{array_contains, avg, col, concat, concat_ws, countDistinct, element_at, explode, explode_outer, lit, lower, mean, round, split, substring, sum, udf, upper, when}\n",
      "import org.apache.spark.sql.types.{IntegerType, StringType, StructType}\n",
      "import org.apache.spark.sql.{Column, DataFrame, SaveMode, SparkSession, functions}\n",
      "import shapeless.Lazy.apply\n",
      "import java.net.URL\n",
      "import java.net.HttpURLConnection\n",
      "import java.io.File\n",
      "import java.nio.file.{Files, StandardCopyOption}\n",
      "import org.apache.spark.sql.SQLContext\n",
      "import org.apache.spark.input.PortableDataStream\n",
      "import java.util.zip.ZipInputStream\n",
      "import java.io.BufferedReader\n",
      "import java.io.InputStreamReader\n",
      "import java.io.{IOException, FileOutputStream, FileInputStream, File}\n",
      "import java.util.zip.{ZipEntry, ZipInputStream}\n",
      "import com.amazonaws.services.s3.AmazonS3Client\n",
      "import com.amazonaws.auth.BasicAWSCredentials\n",
      "import scala.sys.process._\n",
      "import java.net.URL\n",
      "import java.io.File\n",
      "import java.io.File\n",
      "import java.nio.file.{Files, StandardCopyOption}\n",
      "import java.net.HttpURLConnection\n",
      "import org.apache.spark.sql.functions._\n",
      "import org.apache.spark.sql.functions.udf\n",
      "import org.apache.spark.sql.{Row, SparkSession}\n",
      "import org.apache.spark.sql.functions.{col, to_date, to_timestamp}\n",
      "import org.apache.spark.sql.types.DateType\n",
      "import org.apache.spark.sql.functions.{from_unixtime, unix_timestamp, _}\n",
      "import org.apache.spark.input.PortableDataStream\n",
      "import java.util.zip.ZipInputStream\n",
      "import java.io.BufferedReader\n",
      "import java.io.InputStreamReader\n",
      "import org.apache.spark.sql.SQLContext\n",
      "import com.amazonaws.services.s3.AmazonS3Client\n",
      "import com.amazonaws.auth.BasicAWSCredentials\n",
      "import org.apache.spark.sql.types.IntegerType\n",
      "import com.amazonaws.services.s3.{AmazonS3, AmazonS3ClientBuilder}\n",
      "import spark.implicits._\n"
     ]
    }
   ],
   "source": [
    "import breeze.linalg.Matrix.castOps\n",
    "import breeze.linalg.Vector.castOps\n",
    "import org.apache.spark.SparkConf\n",
    "import org.apache.spark.sql.functions.{array_contains, avg, col, concat, concat_ws, countDistinct, element_at, explode, explode_outer, lit, lower, mean, round, split, substring, sum, udf, upper, when}\n",
    "import org.apache.spark.sql.types.{IntegerType, StringType, StructType}\n",
    "import org.apache.spark.sql.{Column, DataFrame, SaveMode, SparkSession, functions}\n",
    "import shapeless.Lazy.apply\n",
    "import java.net.URL\n",
    "import java.net.HttpURLConnection\n",
    "import java.io.File\n",
    "import java.nio.file.{Files, StandardCopyOption}\n",
    "import org.apache.spark.sql.SQLContext\n",
    "import org.apache.spark.input.PortableDataStream\n",
    "import java.util.zip.ZipInputStream\n",
    "import java.io.BufferedReader\n",
    "import java.io.InputStreamReader\n",
    "import java.io.{ IOException, FileOutputStream, FileInputStream, File }\n",
    "import java.util.zip.{ ZipEntry, ZipInputStream }\n",
    "import com.amazonaws.services.s3.AmazonS3Client\n",
    "import com.amazonaws.auth.BasicAWSCredentials\n",
    "//import com.datastax.spark.connector.cql.CassandraConnector\n",
    "//import org.apache.spark.sql.cassandra._\n",
    "\n",
    "// Imports\n",
    "import scala.sys.process._\n",
    "import java.net.URL\n",
    "import java.io.File\n",
    "import java.io.File\n",
    "import java.nio.file.{Files, StandardCopyOption}\n",
    "import java.net.HttpURLConnection \n",
    "import org.apache.spark.sql.functions._\n",
    "\n",
    "//import scala.sqlContext.implicits._\n",
    "import org.apache.spark.sql.functions.udf\n",
    "import org.apache.spark.sql.{Row, SparkSession}\n",
    "import org.apache.spark.sql.functions.{col, to_date, to_timestamp}\n",
    "import org.apache.spark.sql.types.DateType\n",
    "import org.apache.spark.sql.functions.{from_unixtime, unix_timestamp, _}\n",
    "\n",
    "import org.apache.spark.input.PortableDataStream\n",
    "import java.util.zip.ZipInputStream\n",
    "import java.io.BufferedReader\n",
    "import java.io.InputStreamReader\n",
    "import org.apache.spark.sql.SQLContext\n",
    "import com.amazonaws.services.s3.AmazonS3Client\n",
    "import com.amazonaws.auth.BasicAWSCredentials\n",
    "import org.apache.spark.sql.types.IntegerType\n",
    "import com.amazonaws.services.s3.{AmazonS3, AmazonS3ClientBuilder}\n",
    "\n",
    "\n",
    "import spark.implicits._"
   ]
  },
  {
   "cell_type": "markdown",
   "metadata": {},
   "source": [
    "## Téléchargement des 2 fichiers MasterFile (translate et non translate)"
   ]
  },
  {
   "cell_type": "code",
   "execution_count": 2,
   "metadata": {},
   "outputs": [
    {
     "data": {
      "application/vnd.jupyter.widget-view+json": {
       "model_id": "46ca255aeda947b2a0470b3c3d52e1b2",
       "version_major": 2,
       "version_minor": 0
      },
      "text/plain": [
       "VBox()"
      ]
     },
     "metadata": {},
     "output_type": "display_data"
    },
    {
     "data": {
      "application/vnd.jupyter.widget-view+json": {
       "model_id": "",
       "version_major": 2,
       "version_minor": 0
      },
      "text/plain": [
       "FloatProgress(value=0.0, bar_style='info', description='Progress:', layout=Layout(height='25px', width='50%'),…"
      ]
     },
     "metadata": {},
     "output_type": "display_data"
    },
    {
     "name": "stdout",
     "output_type": "stream",
     "text": [
      "warning: there was one feature warning; re-run with -feature for details\n",
      "fileDownloader: (urlOfFileToDownload: String, fileName: String)Any\n",
      "res24: Any = \"\"\n",
      "res25: Any = \"\"\n"
     ]
    }
   ],
   "source": [
    "def fileDownloader(urlOfFileToDownload: String, fileName: String) = {\n",
    "    val url = new URL(urlOfFileToDownload)\n",
    "    val connection = url.openConnection().asInstanceOf[HttpURLConnection]\n",
    "    connection.setConnectTimeout(5000)\n",
    "    connection.setReadTimeout(5000)\n",
    "    connection.connect()\n",
    "\n",
    "    if (connection.getResponseCode >= 400)\n",
    "        println(\"error\")\n",
    "    else\n",
    "        url #> new File(fileName) !!\n",
    "}\n",
    "\n",
    "fileDownloader(\"http://data.gdeltproject.org/gdeltv2/masterfilelist.txt\", \"/tmp/masterfilelist.txt\") // save the list file to the Spark Master\n",
    "fileDownloader(\"http://data.gdeltproject.org/gdeltv2/masterfilelist-translation.txt\", \"/tmp/masterfilelist_translation.txt\") //same for Translation file"
   ]
  },
  {
   "cell_type": "markdown",
   "metadata": {},
   "source": [
    "## Création en Dataframe des url de téléchargements ( + taille + hash)"
   ]
  },
  {
   "cell_type": "code",
   "execution_count": 63,
   "metadata": {},
   "outputs": [
    {
     "data": {
      "application/vnd.jupyter.widget-view+json": {
       "model_id": "d63a10e136514aa697eaeefab03afc8e",
       "version_major": 2,
       "version_minor": 0
      },
      "text/plain": [
       "VBox()"
      ]
     },
     "metadata": {},
     "output_type": "display_data"
    },
    {
     "data": {
      "application/vnd.jupyter.widget-view+json": {
       "model_id": "",
       "version_major": 2,
       "version_minor": 0
      },
      "text/plain": [
       "FloatProgress(value=0.0, bar_style='info', description='Progress:', layout=Layout(height='25px', width='50%'),…"
      ]
     },
     "metadata": {},
     "output_type": "display_data"
    },
    {
     "name": "stdout",
     "output_type": "stream",
     "text": [
      "list_csv: org.apache.spark.sql.DataFrame = [size: string, hash: string ... 1 more field]\n",
      "list_2020_tot: org.apache.spark.sql.Dataset[org.apache.spark.sql.Row] = [size: string, hash: string ... 1 more field]\n",
      "+-------+--------------------------------+--------------------------------------------------------------------------------+\n",
      "|size   |hash                            |url                                                                             |\n",
      "+-------+--------------------------------+--------------------------------------------------------------------------------+\n",
      "|85014  |e3d177df81e577c74f0221c9700fd7a9|http://data.gdeltproject.org/gdeltv2/20200121000000.translation.export.CSV.zip  |\n",
      "|69820  |743e3992e6b26fd4574b90d1ff296c4e|http://data.gdeltproject.org/gdeltv2/20200121000000.translation.mentions.CSV.zip|\n",
      "|7301007|f5813853c108b9195ad006cc27bee8d8|http://data.gdeltproject.org/gdeltv2/20200121000000.translation.gkg.csv.zip     |\n",
      "|61358  |71341eaa1ec6462edec792d5c724aee8|http://data.gdeltproject.org/gdeltv2/20200121001500.translation.export.CSV.zip  |\n",
      "|52769  |469b045ddb52e4819f0d616387167382|http://data.gdeltproject.org/gdeltv2/20200121001500.translation.mentions.CSV.zip|\n",
      "|7059703|c60fb53bda18cd02c1e3f71ac7d7d67d|http://data.gdeltproject.org/gdeltv2/20200121001500.translation.gkg.csv.zip     |\n",
      "|68452  |1b5a2584fb4302880d7a2159abe4ff5b|http://data.gdeltproject.org/gdeltv2/20200121003000.translation.export.CSV.zip  |\n",
      "|64285  |5a3e9622d4fb1ba4230d9a6818e43f6e|http://data.gdeltproject.org/gdeltv2/20200121003000.translation.mentions.CSV.zip|\n",
      "|7125853|f87ca08ed2dacb9a939f979a711ecf0c|http://data.gdeltproject.org/gdeltv2/20200121003000.translation.gkg.csv.zip     |\n",
      "|69712  |fad1c786e48ec8a519590bbe88de729b|http://data.gdeltproject.org/gdeltv2/20200121004500.translation.export.CSV.zip  |\n",
      "+-------+--------------------------------+--------------------------------------------------------------------------------+\n",
      "only showing top 10 rows\n",
      "\n"
     ]
    }
   ],
   "source": [
    "// English Data\n",
    "val list_csv = spark.read.format(\"csv\").option(\"delimiter\", \" \").\n",
    "    csv(\"s3://axel-michalewicz-telecom/masterfilelist-translation.txt\").\n",
    "    withColumnRenamed(\"_c0\",\"size\").\n",
    "    withColumnRenamed(\"_c1\",\"hash\").\n",
    "    withColumnRenamed(\"_c2\",\"url\")\n",
    "\n",
    "val list_2020_tot = list_csv.where(col(\"url\").like(\"%/2020%\")) \n",
    "//val list_2020_tot = list_csv.where(col(\"url\").like(\"%export%\")) \n",
    "list_2020_tot.show(10,false)"
   ]
  },
  {
   "cell_type": "markdown",
   "metadata": {},
   "source": [
    "## Essai de d'écriture d'une fonction MD5 permettant de vérifier le fichier téléchargé"
   ]
  },
  {
   "cell_type": "code",
   "execution_count": 9,
   "metadata": {},
   "outputs": [
    {
     "data": {
      "application/vnd.jupyter.widget-view+json": {
       "model_id": "b7d2c0693f1842fb928c6cfc6487d42c",
       "version_major": 2,
       "version_minor": 0
      },
      "text/plain": [
       "VBox()"
      ]
     },
     "metadata": {},
     "output_type": "display_data"
    },
    {
     "data": {
      "application/vnd.jupyter.widget-view+json": {
       "model_id": "",
       "version_major": 2,
       "version_minor": 0
      },
      "text/plain": [
       "FloatProgress(value=0.0, bar_style='info', description='Progress:', layout=Layout(height='25px', width='50%'),…"
      ]
     },
     "metadata": {},
     "output_type": "display_data"
    },
    {
     "name": "stdout",
     "output_type": "stream",
     "text": [
      "hash: (s: String)String\n"
     ]
    }
   ],
   "source": [
    "//Source https://gist.github.com/stonegao/1044641\n",
    "  def hash(s: String) = {\n",
    "    val m = java.security.MessageDigest.getInstance(\"MD5\")\n",
    "    val b = s.getBytes(\"UTF-8\")\n",
    "    m.update(b, 0, b.length)\n",
    "    new java.math.BigInteger(1, m.digest()).toString(16)\n",
    "  }\n",
    "val hashUdf = udf(hash _)"
   ]
  },
  {
   "cell_type": "markdown",
   "metadata": {},
   "source": [
    "## Stockage des fichiers ZIP sur le S3"
   ]
  },
  {
   "cell_type": "code",
   "execution_count": 67,
   "metadata": {},
   "outputs": [
    {
     "data": {
      "application/vnd.jupyter.widget-view+json": {
       "model_id": "eff6bb7e3841440eb4f5c84b1a6e0b60",
       "version_major": 2,
       "version_minor": 0
      },
      "text/plain": [
       "VBox()"
      ]
     },
     "metadata": {},
     "output_type": "display_data"
    },
    {
     "data": {
      "application/vnd.jupyter.widget-view+json": {
       "model_id": "",
       "version_major": 2,
       "version_minor": 0
      },
      "text/plain": [
       "FloatProgress(value=0.0, bar_style='info', description='Progress:', layout=Layout(height='25px', width='50%'),…"
      ]
     },
     "metadata": {},
     "output_type": "display_data"
    },
    {
     "name": "stdout",
     "output_type": "stream",
     "text": [
      "StokeFileS3: (URL: String)AnyVal\n"
     ]
    }
   ],
   "source": [
    "def StokeFileS3(URL: String) = {\n",
    "    val fileName = URL.split(\"/\").last\n",
    "    val dir = \"/tmp/\"\n",
    "    val localFileName = dir + fileName\n",
    "    try {\n",
    "        \n",
    "            fileDownloader(URL,  localFileName)\n",
    "            @transient val s3Client: AmazonS3 = AmazonS3ClientBuilder.defaultClient()\n",
    "            val localFile = new File(localFileName)\n",
    "            s3Client.putObject(\"axel-michalewicz-telecom/MD5\", fileName, localFile)   \n",
    "            localFile.delete()  \n",
    "    } catch {\n",
    "        case e: java.io.FileNotFoundException => \n",
    "        case e: com.amazonaws.SdkClientException => \n",
    "    }    \n",
    "}"
   ]
  },
  {
   "cell_type": "markdown",
   "metadata": {},
   "source": [
    "## Téléchargement massif de tous les fichiers ZIP"
   ]
  },
  {
   "cell_type": "code",
   "execution_count": 118,
   "metadata": {},
   "outputs": [
    {
     "data": {
      "application/vnd.jupyter.widget-view+json": {
       "model_id": "62084334f4ea4592a14a9d0c942e6a69",
       "version_major": 2,
       "version_minor": 0
      },
      "text/plain": [
       "VBox()"
      ]
     },
     "metadata": {},
     "output_type": "display_data"
    },
    {
     "data": {
      "application/vnd.jupyter.widget-view+json": {
       "model_id": "",
       "version_major": 2,
       "version_minor": 0
      },
      "text/plain": [
       "FloatProgress(value=0.0, bar_style='info', description='Progress:', layout=Layout(height='25px', width='50%'),…"
      ]
     },
     "metadata": {},
     "output_type": "display_data"
    }
   ],
   "source": [
    "// massive\n",
    "list_2020_tot.select(\"url\").repartition(100).foreach( r=> {\n",
    "    val URL = r.getAs[String](0)\n",
    "    StokeFileS3(URL)\n",
    "})\n",
    "//15h52  -40 min de telechargement"
   ]
  },
  {
   "cell_type": "markdown",
   "metadata": {},
   "source": [
    "## Création du Dataframe GKG"
   ]
  },
  {
   "cell_type": "code",
   "execution_count": 86,
   "metadata": {},
   "outputs": [
    {
     "data": {
      "application/vnd.jupyter.widget-view+json": {
       "model_id": "0130408f24f64194840e8ebbd8184289",
       "version_major": 2,
       "version_minor": 0
      },
      "text/plain": [
       "VBox()"
      ]
     },
     "metadata": {},
     "output_type": "display_data"
    },
    {
     "data": {
      "application/vnd.jupyter.widget-view+json": {
       "model_id": "",
       "version_major": 2,
       "version_minor": 0
      },
      "text/plain": [
       "FloatProgress(value=0.0, bar_style='info', description='Progress:', layout=Layout(height='25px', width='50%'),…"
      ]
     },
     "metadata": {},
     "output_type": "display_data"
    },
    {
     "name": "stdout",
     "output_type": "stream",
     "text": [
      "gkgRDD: org.apache.spark.rdd.RDD[String] = MapPartitionsRDD[216] at flatMap at <console>:101\n",
      "gkgDF: org.apache.spark.sql.DataFrame = [value: array<string>]\n",
      "dfGKG: org.apache.spark.sql.DataFrame = [GKGRECORDID: string, V2DATE: string ... 6 more fields]\n"
     ]
    }
   ],
   "source": [
    "//Ouverture des fichiers ZIP et écriture en csv.\n",
    "\n",
    "val gkgRDD = sc.binaryFiles(\"s3://axel-michalewicz-telecom/masterFileTrans/20200123*gkg.csv.zip\",100).    \n",
    "   flatMap {  \n",
    "       \n",
    "       // decompresser les fichiers\n",
    "       case (name: String, content: PortableDataStream) =>\n",
    "\n",
    "          val zis = new ZipInputStream(content.open)\n",
    "          Stream.continually(zis.getNextEntry).\n",
    "                //takeWhile(_ != null).\n",
    "                takeWhile{case null => zis.closeEntry(); zis.close(); false\n",
    "                          case _ => true}.\n",
    "                flatMap { _ =>\n",
    "                    val br = new BufferedReader(new InputStreamReader(zis))\n",
    "                    Stream.continually(br.readLine()).takeWhile(_ != null)\n",
    "                }\n",
    "    }\n",
    "\n",
    "val gkgDF = gkgRDD.map(x => x.split(\"\\t\")).toDF()//.map(row => row.mkString(\";\")).map(x => x.split(\";\")).toDF()\n",
    "//val gkgDF = gkgRDD.map(x => x.split(\"\\t\")).map(row => row.mkString(\";\")).toDF()\n",
    "\n",
    "val dfGKG = gkgDF.withColumn(\"_tmp\", $\"value\").select(\n",
    "    $\"_tmp\".getItem(0).as(\"GKGRECORDID\"),\n",
    "    $\"_tmp\".getItem(1).as(\"V2DATE\"),\n",
    "    $\"_tmp\".getItem(3).as(\"V2SOURCECOMMONNAME\"),\n",
    "    $\"_tmp\".getItem(4).as(\"V2DOCUMENTIDENTIFIER\"),\n",
    "    $\"_tmp\".getItem(7).as(\"V1THEMES\"),\n",
    "    $\"_tmp\".getItem(9).as(\"V1LOCATIONS\"),\n",
    "    $\"_tmp\".getItem(11).as(\"V1PERSONS\"),\n",
    "    $\"_tmp\".getItem(15).as(\"V1TONE\")\n",
    "    )"
   ]
  },
  {
   "cell_type": "markdown",
   "metadata": {},
   "source": [
    "## Création du Dataframe Mention"
   ]
  },
  {
   "cell_type": "code",
   "execution_count": 87,
   "metadata": {},
   "outputs": [
    {
     "data": {
      "application/vnd.jupyter.widget-view+json": {
       "model_id": "8811eeee6d9844e98deecfc4e2a3e40c",
       "version_major": 2,
       "version_minor": 0
      },
      "text/plain": [
       "VBox()"
      ]
     },
     "metadata": {},
     "output_type": "display_data"
    },
    {
     "data": {
      "application/vnd.jupyter.widget-view+json": {
       "model_id": "",
       "version_major": 2,
       "version_minor": 0
      },
      "text/plain": [
       "FloatProgress(value=0.0, bar_style='info', description='Progress:', layout=Layout(height='25px', width='50%'),…"
      ]
     },
     "metadata": {},
     "output_type": "display_data"
    },
    {
     "name": "stdout",
     "output_type": "stream",
     "text": [
      "mentionENRDD: org.apache.spark.rdd.RDD[String] = MapPartitionsRDD[219] at flatMap at <console>:101\n",
      "mentionENDF: org.apache.spark.sql.DataFrame = [value: array<string>]\n",
      "dfMentionEN: org.apache.spark.sql.DataFrame = [globaleventID: string, MentionSourceName: string ... 2 more fields]\n"
     ]
    }
   ],
   "source": [
    "//Ouverture des fichiers ZIP et écriture en csv.\n",
    "\n",
    "val mentionENRDD = sc.binaryFiles(\"s3://axel-michalewicz-telecom/masterFileTrans/20200123*mentions.CSV.zip\",100).    \n",
    "   flatMap {  \n",
    "       \n",
    "       // decompresser les fichiers\n",
    "       case (name: String, content: PortableDataStream) =>\n",
    "\n",
    "          val zis = new ZipInputStream(content.open)\n",
    "          Stream.continually(zis.getNextEntry).\n",
    "                //takeWhile(_ != null).\n",
    "                takeWhile{case null => zis.closeEntry(); zis.close(); false\n",
    "                          case _ => true}.\n",
    "                flatMap { _ =>\n",
    "                    val br = new BufferedReader(new InputStreamReader(zis))\n",
    "                    Stream.continually(br.readLine()).takeWhile(_ != null)\n",
    "                }\n",
    "\n",
    "    }\n",
    "\n",
    "val mentionENDF = mentionENRDD.map(x => x.split(\"\\t\")).map(row => row.mkString(\";\")).map(x => x.split(\";\")).toDF()\n",
    "\n",
    "val dfMentionEN = mentionENDF.withColumn(\"_tmp\", $\"value\").select(\n",
    "     $\"_tmp\".getItem(0).as(\"globaleventID\"),\n",
    "     $\"_tmp\".getItem(4).as(\"MentionSourceName\"),\n",
    "     $\"_tmp\".getItem(5).as(\"MentionIdentifier\"),\n",
    "     $\"_tmp\".getItem(14).as(\"MentionDocTranslationInfo\")\n",
    "    )"
   ]
  },
  {
   "cell_type": "markdown",
   "metadata": {},
   "source": [
    "## Nettoyage du champs Langue des Dataframes"
   ]
  },
  {
   "cell_type": "code",
   "execution_count": 88,
   "metadata": {},
   "outputs": [
    {
     "data": {
      "application/vnd.jupyter.widget-view+json": {
       "model_id": "f47838d7e8414509961a852cd418fb57",
       "version_major": 2,
       "version_minor": 0
      },
      "text/plain": [
       "VBox()"
      ]
     },
     "metadata": {},
     "output_type": "display_data"
    },
    {
     "data": {
      "application/vnd.jupyter.widget-view+json": {
       "model_id": "",
       "version_major": 2,
       "version_minor": 0
      },
      "text/plain": [
       "FloatProgress(value=0.0, bar_style='info', description='Progress:', layout=Layout(height='25px', width='50%'),…"
      ]
     },
     "metadata": {},
     "output_type": "display_data"
    },
    {
     "name": "stdout",
     "output_type": "stream",
     "text": [
      "cleanLangue: (langue: String)String\n",
      "cleanLangueUdf: org.apache.spark.sql.expressions.UserDefinedFunction = UserDefinedFunction(<function1>,StringType,Some(List(StringType)))\n",
      "dfMention: org.apache.spark.sql.DataFrame = [globaleventID: string, MentionSourceName: string ... 2 more fields]\n"
     ]
    }
   ],
   "source": [
    "def cleanLangue(langue: String): String = {\n",
    "\tif (langue == null)\n",
    "    \t\"eng\" \n",
    "\telse\n",
    "        langue.substring(6)\n",
    "}\n",
    "\n",
    "val cleanLangueUdf = udf(cleanLangue _)\n",
    "\n",
    "val dfMention: DataFrame = dfMentionEN.\n",
    "\twithColumn(\"Langue\", cleanLangueUdf($\"MentionDocTranslationInfo\")).\n",
    "    drop($\"MentionDocTranslationInfo\")"
   ]
  },
  {
   "cell_type": "markdown",
   "metadata": {},
   "source": [
    "## Création du Dataframe Event"
   ]
  },
  {
   "cell_type": "code",
   "execution_count": 89,
   "metadata": {},
   "outputs": [
    {
     "data": {
      "application/vnd.jupyter.widget-view+json": {
       "model_id": "1ed7afc01de448fe87058cc37c75cfd7",
       "version_major": 2,
       "version_minor": 0
      },
      "text/plain": [
       "VBox()"
      ]
     },
     "metadata": {},
     "output_type": "display_data"
    },
    {
     "data": {
      "application/vnd.jupyter.widget-view+json": {
       "model_id": "",
       "version_major": 2,
       "version_minor": 0
      },
      "text/plain": [
       "FloatProgress(value=0.0, bar_style='info', description='Progress:', layout=Layout(height='25px', width='50%'),…"
      ]
     },
     "metadata": {},
     "output_type": "display_data"
    },
    {
     "name": "stdout",
     "output_type": "stream",
     "text": [
      "EventENRDD: org.apache.spark.rdd.RDD[String] = MapPartitionsRDD[224] at flatMap at <console>:101\n",
      "eventENDF: org.apache.spark.sql.DataFrame = [value: array<string>]\n",
      "dfEvent: org.apache.spark.sql.DataFrame = [globaleventID: string, day: string ... 7 more fields]\n"
     ]
    }
   ],
   "source": [
    "//Ouverture des fichiers ZIP et écriture en csv.\n",
    "\n",
    "val EventENRDD = sc.binaryFiles(\"s3://axel-michalewicz-telecom/masterFileTrans/20200123*export.CSV.zip\",100).    \n",
    "   flatMap {  \n",
    "       \n",
    "       // decompresser les fichiers\n",
    "       case (name: String, content: PortableDataStream) =>\n",
    "\n",
    "          val zis = new ZipInputStream(content.open)\n",
    "          Stream.continually(zis.getNextEntry).\n",
    "                //takeWhile(_ != null).\n",
    "                takeWhile{case null => zis.closeEntry(); zis.close(); false\n",
    "                          case _ => true}.\n",
    "                flatMap { _ =>\n",
    "                    val br = new BufferedReader(new InputStreamReader(zis))\n",
    "                    Stream.continually(br.readLine()).takeWhile(_ != null)\n",
    "                }\n",
    "\n",
    "    }\n",
    "\n",
    "val eventENDF = EventENRDD.map(x => x.split(\"\\t\")).map(row => row.mkString(\";\")).map(x => x.split(\";\")).toDF()\n",
    "\n",
    "val dfEvent = eventENDF.withColumn(\"_tmp\", $\"value\").select(\n",
    "     $\"_tmp\".getItem(0).as(\"globaleventID\"),\n",
    "     $\"_tmp\".getItem(1).as(\"day\"),\n",
    "     $\"_tmp\".getItem(2).as(\"month\"),\n",
    "     $\"_tmp\".getItem(3).as(\"year\"),\n",
    "     $\"_tmp\".getItem(31).as(\"NumMentions\"),\n",
    "     $\"_tmp\".getItem(32).as(\"NumSources\"),\n",
    "     $\"_tmp\".getItem(33).as(\"NumArticles\"),\n",
    "     $\"_tmp\".getItem(34).as(\"AvgTone\"),\n",
    "     $\"_tmp\".getItem(52).as(\"ActionGeo_Fullname\")\n",
    "    )"
   ]
  },
  {
   "cell_type": "markdown",
   "metadata": {},
   "source": [
    "## Filtrage des articles parlant du thème du Covid19"
   ]
  },
  {
   "cell_type": "code",
   "execution_count": 90,
   "metadata": {},
   "outputs": [
    {
     "data": {
      "application/vnd.jupyter.widget-view+json": {
       "model_id": "3dda56d878684c218da6093489862235",
       "version_major": 2,
       "version_minor": 0
      },
      "text/plain": [
       "VBox()"
      ]
     },
     "metadata": {},
     "output_type": "display_data"
    },
    {
     "data": {
      "application/vnd.jupyter.widget-view+json": {
       "model_id": "",
       "version_major": 2,
       "version_minor": 0
      },
      "text/plain": [
       "FloatProgress(value=0.0, bar_style='info', description='Progress:', layout=Layout(height='25px', width='50%'),…"
      ]
     },
     "metadata": {},
     "output_type": "display_data"
    },
    {
     "name": "stdout",
     "output_type": "stream",
     "text": [
      "dfGKG_Pand: org.apache.spark.sql.DataFrame = [GKGRECORDID: string, V2DATE: string ... 7 more fields]\n",
      "dfGKG_Covid: org.apache.spark.sql.Dataset[org.apache.spark.sql.Row] = [GKGRECORDID: string, V2DATE: string ... 7 more fields]\n"
     ]
    }
   ],
   "source": [
    "val dfGKG_Pand = dfGKG.\n",
    "    withColumn(\"CheckCOVID\", $\"V1THEMES\".like(\"%PANDEMIC%\") || $\"V1THEMES\".like(\"%CORONAVIRUS%\"))\n",
    "\n",
    "val dfGKG_Covid = dfGKG_Pand.\n",
    "    filter((dfGKG_Pand(\"CheckCOVID\") === \"true\"))"
   ]
  },
  {
   "cell_type": "markdown",
   "metadata": {},
   "source": [
    "## Joiture des dataframes GKG et Mention"
   ]
  },
  {
   "cell_type": "code",
   "execution_count": 92,
   "metadata": {},
   "outputs": [
    {
     "data": {
      "application/vnd.jupyter.widget-view+json": {
       "model_id": "e064ccb31dfc4b5a97b6b50dbfe9745a",
       "version_major": 2,
       "version_minor": 0
      },
      "text/plain": [
       "VBox()"
      ]
     },
     "metadata": {},
     "output_type": "display_data"
    },
    {
     "data": {
      "application/vnd.jupyter.widget-view+json": {
       "model_id": "",
       "version_major": 2,
       "version_minor": 0
      },
      "text/plain": [
       "FloatProgress(value=0.0, bar_style='info', description='Progress:', layout=Layout(height='25px', width='50%'),…"
      ]
     },
     "metadata": {},
     "output_type": "display_data"
    },
    {
     "name": "stdout",
     "output_type": "stream",
     "text": [
      "dfGKGCovidWithMention: org.apache.spark.sql.DataFrame = [GKGRECORDID: string, V2DATE: string ... 11 more fields]\n"
     ]
    }
   ],
   "source": [
    "val dfGKGCovidWithMention = dfGKG_Covid.join(dfMention, dfGKG_Covid(\"V2DOCUMENTIDENTIFIER\")===dfMention(\"MentionIdentifier\"), \"inner\")\n",
    "\n",
    "//dfGKGCovidWithMention.write.parquet(\"s3://axel-michalewicz-telecom/GKGMention20janv/\")"
   ]
  },
  {
   "cell_type": "code",
   "execution_count": 61,
   "metadata": {},
   "outputs": [
    {
     "data": {
      "application/vnd.jupyter.widget-view+json": {
       "model_id": "4132550525214db28379cc2e045a63b9",
       "version_major": 2,
       "version_minor": 0
      },
      "text/plain": [
       "VBox()"
      ]
     },
     "metadata": {},
     "output_type": "display_data"
    },
    {
     "data": {
      "application/vnd.jupyter.widget-view+json": {
       "model_id": "",
       "version_major": 2,
       "version_minor": 0
      },
      "text/plain": [
       "FloatProgress(value=0.0, bar_style='info', description='Progress:', layout=Layout(height='25px', width='50%'),…"
      ]
     },
     "metadata": {},
     "output_type": "display_data"
    },
    {
     "name": "stdout",
     "output_type": "stream",
     "text": [
      "dfGKGMention: org.apache.spark.sql.DataFrame = [GKGRECORDID: string, V2DATE: string ... 11 more fields]\n"
     ]
    }
   ],
   "source": [
    "//val dfGKGMention = spark.\n",
    "      //read.\n",
    "      //parquet(\"s3://axel-michalewicz-telecom/GKGMention20janv/\")"
   ]
  },
  {
   "cell_type": "markdown",
   "metadata": {},
   "source": [
    "## Jointure de ce dataframe avec le dataframe Event"
   ]
  },
  {
   "cell_type": "code",
   "execution_count": 93,
   "metadata": {},
   "outputs": [
    {
     "data": {
      "application/vnd.jupyter.widget-view+json": {
       "model_id": "fd81cec8ec3e43b38b6c7aed7a7a4906",
       "version_major": 2,
       "version_minor": 0
      },
      "text/plain": [
       "VBox()"
      ]
     },
     "metadata": {},
     "output_type": "display_data"
    },
    {
     "data": {
      "application/vnd.jupyter.widget-view+json": {
       "model_id": "",
       "version_major": 2,
       "version_minor": 0
      },
      "text/plain": [
       "FloatProgress(value=0.0, bar_style='info', description='Progress:', layout=Layout(height='25px', width='50%'),…"
      ]
     },
     "metadata": {},
     "output_type": "display_data"
    },
    {
     "name": "stdout",
     "output_type": "stream",
     "text": [
      "dfFinal: org.apache.spark.sql.DataFrame = [GKGRECORDID: string, V2DATE: string ... 19 more fields]\n"
     ]
    }
   ],
   "source": [
    "val dfFinal = dfGKGCovidWithMention.join(dfEvent, dfGKGCovidWithMention(\"globaleventID\")===dfEvent(\"globaleventID\"), \"inner\").drop(dfEvent(\"globaleventID\"))\n",
    "//val dfFinal = dfGKGMention.join(dfEvent, dfGKGMention(\"globaleventID\")===dfEvent(\"globaleventID\"), \"inner\").drop(dfEvent(\"globaleventID\"))"
   ]
  },
  {
   "cell_type": "markdown",
   "metadata": {},
   "source": [
    "## Ecriture en Json dans S3 pour l'intégration dans MongoDB"
   ]
  },
  {
   "cell_type": "code",
   "execution_count": 94,
   "metadata": {},
   "outputs": [
    {
     "data": {
      "application/vnd.jupyter.widget-view+json": {
       "model_id": "f6a3a5cce5a249fcb54997f0d4ffee0a",
       "version_major": 2,
       "version_minor": 0
      },
      "text/plain": [
       "VBox()"
      ]
     },
     "metadata": {},
     "output_type": "display_data"
    },
    {
     "data": {
      "application/vnd.jupyter.widget-view+json": {
       "model_id": "",
       "version_major": 2,
       "version_minor": 0
      },
      "text/plain": [
       "FloatProgress(value=0.0, bar_style='info', description='Progress:', layout=Layout(height='25px', width='50%'),…"
      ]
     },
     "metadata": {},
     "output_type": "display_data"
    }
   ],
   "source": [
    "dfFinal.write.json(\"s3://axel-michalewicz-telecom/Json/janv23\")"
   ]
  },
  {
   "cell_type": "markdown",
   "metadata": {},
   "source": [
    "## Dans l'éventualité où nous aurions utiliser Cassandra, les requêtes 1 à 3 sont pré-construites ci-dessous"
   ]
  },
  {
   "cell_type": "code",
   "execution_count": 135,
   "metadata": {},
   "outputs": [
    {
     "data": {
      "application/vnd.jupyter.widget-view+json": {
       "model_id": "e700a95ce95048beaf304639e67e5291",
       "version_major": 2,
       "version_minor": 0
      },
      "text/plain": [
       "VBox()"
      ]
     },
     "metadata": {},
     "output_type": "display_data"
    },
    {
     "data": {
      "application/vnd.jupyter.widget-view+json": {
       "model_id": "",
       "version_major": 2,
       "version_minor": 0
      },
      "text/plain": [
       "FloatProgress(value=0.0, bar_style='info', description='Progress:', layout=Layout(height='25px', width='50%'),…"
      ]
     },
     "metadata": {},
     "output_type": "display_data"
    },
    {
     "name": "stdout",
     "output_type": "stream",
     "text": [
      "dfCovid_Pays: org.apache.spark.sql.DataFrame = [GKGRECORDID: string, V2DATE: string ... 20 more fields]\n",
      "CountEventArticle: org.apache.spark.sql.DataFrame = [day: string, Pays: string ... 3 more fields]\n"
     ]
    }
   ],
   "source": [
    "//Requête dans le cas où nous utiliserons Cassandra\n",
    "\n",
    "//--------------------------------------------------------------------->\n",
    "\n",
    "val dfCovid_Pays = dfFinal.\n",
    "      withColumn(\"Pays\", split($\"ActionGeo_Fullname\", \", \")).\n",
    "      withColumn(\"Pays\", element_at($\"Pays\", -1))\n",
    "\n",
    "// 1°) afficher le nombre d’articles/évènements qui parlent de COVID qu’il y a eu pour chaque triplet (jour, pays de l’évènement, langue de l’article).\n",
    "\n",
    "val CountEventArticle = dfCovid_Pays.\n",
    "\tgroupBy(\"day\", \"Pays\", \"Langue\").\n",
    "    agg(countDistinct(\"globaleventID\").alias(\"NbEvent\"),countDistinct(\"GKGRECORDID\").alias(\"NbArticle\"))\n",
    "\n",
    "CountEventArticle.write.csv(\"s3://axel-michalewicz-telecom/requete1/fev01ENG\")"
   ]
  },
  {
   "cell_type": "code",
   "execution_count": 136,
   "metadata": {},
   "outputs": [
    {
     "data": {
      "application/vnd.jupyter.widget-view+json": {
       "model_id": "38fe52d6ea454075bdebc5d8819f4f6b",
       "version_major": 2,
       "version_minor": 0
      },
      "text/plain": [
       "VBox()"
      ]
     },
     "metadata": {},
     "output_type": "display_data"
    },
    {
     "data": {
      "application/vnd.jupyter.widget-view+json": {
       "model_id": "",
       "version_major": 2,
       "version_minor": 0
      },
      "text/plain": [
       "FloatProgress(value=0.0, bar_style='info', description='Progress:', layout=Layout(height='25px', width='50%'),…"
      ]
     },
     "metadata": {},
     "output_type": "display_data"
    },
    {
     "name": "stdout",
     "output_type": "stream",
     "text": [
      "dfCovid_Country: org.apache.spark.sql.Dataset[org.apache.spark.sql.Row] = [Pays: string, day: string ... 2 more fields]\n"
     ]
    }
   ],
   "source": [
    "//--------------------------------------------------------------------->\n",
    "\n",
    "// 2°) pour un pays donné en paramètre,\n",
    "// affichez les évènements qui y ont eu place triées par le nombre de mentions (tri décroissant);\n",
    "// permettez une agrégation par jour/mois/année\n",
    "\n",
    "val dfCovid_Country = dfCovid_Pays.\n",
    "\tgroupBy(\"Pays\",\"day\",\"globaleventID\").\n",
    "    agg(sum(\"NumMentions\").alias(\"countMention\")).\n",
    "    sort($\"countMention\".desc)\n",
    "\n",
    "//Si aggrégation par jour, Mois, Année, utiliser le champs \"day\"\n",
    "\n",
    "//Requête  question 2)\n",
    "//dfCovid_Country.show()\n",
    "\n",
    "dfCovid_Country.write.csv(\"s3://axel-michalewicz-telecom/requete2/fev01ENG\")"
   ]
  },
  {
   "cell_type": "code",
   "execution_count": 137,
   "metadata": {},
   "outputs": [
    {
     "data": {
      "application/vnd.jupyter.widget-view+json": {
       "model_id": "babe90d346a54cd28bfee732e0a22501",
       "version_major": 2,
       "version_minor": 0
      },
      "text/plain": [
       "VBox()"
      ]
     },
     "metadata": {},
     "output_type": "display_data"
    },
    {
     "data": {
      "application/vnd.jupyter.widget-view+json": {
       "model_id": "",
       "version_major": 2,
       "version_minor": 0
      },
      "text/plain": [
       "FloatProgress(value=0.0, bar_style='info', description='Progress:', layout=Layout(height='25px', width='50%'),…"
      ]
     },
     "metadata": {},
     "output_type": "display_data"
    },
    {
     "name": "stdout",
     "output_type": "stream",
     "text": [
      "dfGKGQuestion3: org.apache.spark.sql.DataFrame = [GKGRECORDID: string, V2DATE: string ... 11 more fields]\n",
      "dfCovid_1DataSource: org.apache.spark.sql.DataFrame = [Annee: string, Mois: string ... 7 more fields]\n",
      "dfCovid_1DataSourceTheme: org.apache.spark.sql.DataFrame = [V2SOURCECOMMONNAME: string, GKGRECORDID: string ... 5 more fields]\n",
      "dfCovid_1DataSourceThemeGroup: org.apache.spark.sql.DataFrame = [V2SOURCECOMMONNAME: string, Jour: string ... 3 more fields]\n",
      "dfCovid_1DataSourcePersonnes: org.apache.spark.sql.DataFrame = [V2SOURCECOMMONNAME: string, GKGRECORDID: string ... 5 more fields]\n",
      "dfCovid_1DataSourcePersonnesGroup: org.apache.spark.sql.DataFrame = [V2SOURCECOMMONNAME: string, Jour: string ... 3 more fields]\n",
      "dfCovid_1DataSourceLieux: org.apache.spark.sql.DataFrame = [V2SOURCECOMMONNAME: string, GKGRECORDID: string ... 5 more fields]\n",
      "dfCovid_1DataSourceLieuxGroup: org.apache.spark.sql.DataFrame = [V2SOURCECOMMONNAME: string, Jour: string ... 3 more fields]\n",
      "dfCovid_1DataSourceLieuxGroupFinal: org.apache.spark.sql.DataFrame = [V2SOURCECOMMONNAME: string, Jour: string ... 3 more fields]\n"
     ]
    }
   ],
   "source": [
    "//--------------------------------------------------------------------->\n",
    "// 3°) pour une source de données passée en paramètre (gkg.SourceCommonName)\n",
    "// affichez les thèmes (V1THEMES de la table GKG), personnes (V1PERSONS), lieux (V1LOCATIONS plutôt que Actor1Geo_Fullname, Actor2Geo_Fullname, ActionGeo_Fullname) dont les articles de cette source parlent\n",
    "// ainsi que le nombre d’articles (NumArticles dans la table Event ? => NON count juste le nombre de ligne de la table GKG car une ligne est un article) et le ton moyen des articles (AvgTone dans la table Event ? => .agg(mean(V1.TONE) ) (pour chaque thème/personne/lieu);\n",
    "// permettez une agrégation par jour/mois/année (=day).\n",
    "\n",
    "val dfGKGQuestion3 = dfGKG_Covid.\n",
    "\twithColumn(\"Thèmes\", split($\"V1THEMES\", \";\")).\n",
    "    withColumn(\"Personnes\", split($\"V1PERSONS\", \";\")).\n",
    "    withColumn(\"Tons\", split($\"V1TONE\", \",\")).\n",
    "    withColumn(\"Lieux\", split($\"V1LOCATIONS\", \";\"))\n",
    "    \n",
    "val dfCovid_1DataSource = dfGKGQuestion3.\n",
    "    withColumn(\"Annee\", substring($\"V2DATE\", 0,4)).\n",
    "    withColumn(\"Mois\", substring($\"V2DATE\", 0,6)).\n",
    "    withColumn(\"Jour\", substring($\"V2DATE\", 0,8)).\n",
    "    select($\"Annee\",$\"Mois\",$\"Jour\",$\"V2SOURCECOMMONNAME\",$\"GKGRECORDID\",$\"Thèmes\", $\"Personnes\", $\"Lieux\", $\"Tons\".getItem(0).alias(\"AVGTon\"))\n",
    "\n",
    "\n",
    "//Requête  question 3): thèmes\n",
    "val dfCovid_1DataSourceTheme = dfCovid_1DataSource.\n",
    "\tselect($\"V2SOURCECOMMONNAME\",$\"GKGRECORDID\", $\"Annee\", $\"Mois\", $\"Jour\",$\"AVGTon\", explode_outer($\"Thèmes\").alias(\"Thème\"))\n",
    "\n",
    "val dfCovid_1DataSourceThemeGroup = dfCovid_1DataSourceTheme.\n",
    "\tgroupBy(\"V2SOURCECOMMONNAME\",\"Jour\",\"Thème\").\n",
    "    agg(countDistinct(\"GKGRECORDID\").alias(\"NbArticles\"), mean(\"AVGTon\").alias(\"TonMoyen\"))\n",
    "\n",
    "dfCovid_1DataSourceThemeGroup.write.csv(\"s3://axel-michalewicz-telecom/requete3/Theme/fev01ENG\")\n",
    "\n",
    "//dfCovid_1DataSourceThemeGroup.show()\n",
    "\n",
    "//Requête  question 3): personnes\n",
    "val dfCovid_1DataSourcePersonnes = dfCovid_1DataSource.\n",
    "\tselect($\"V2SOURCECOMMONNAME\",$\"GKGRECORDID\", $\"Annee\", $\"Mois\", $\"Jour\",$\"AVGTon\", explode_outer($\"Personnes\").alias(\"Personne\"))\n",
    "\n",
    "val dfCovid_1DataSourcePersonnesGroup = dfCovid_1DataSourcePersonnes.\n",
    "\tgroupBy(\"V2SOURCECOMMONNAME\",\"Jour\",\"Personne\").\n",
    "    agg(countDistinct(\"GKGRECORDID\").alias(\"NbArticles\"), mean(\"AVGTon\").alias(\"TonMoyen\"))\n",
    "\n",
    "//dfCovid_1DataSourcePersonnesGroup.show()\n",
    "\n",
    "dfCovid_1DataSourcePersonnesGroup.write.csv(\"s3://axel-michalewicz-telecom/requete3/Personnes/fev01ENG\")\n",
    "\n",
    "\n",
    "//Requête  question 3): Lieux\n",
    "val dfCovid_1DataSourceLieux = dfCovid_1DataSource.\n",
    "\tselect($\"V2SOURCECOMMONNAME\",$\"GKGRECORDID\", $\"Annee\", $\"Mois\", $\"Jour\",$\"AVGTon\", explode_outer($\"Lieux\").alias(\"Lieu\"))\n",
    "\n",
    "\n",
    "val dfCovid_1DataSourceLieuxGroup = dfCovid_1DataSourceLieux.\n",
    "\tgroupBy(\"V2SOURCECOMMONNAME\",\"Jour\",\"Lieu\").\n",
    "    agg(countDistinct(\"GKGRECORDID\").alias(\"NbArticles\"), mean(\"AVGTon\").alias(\"TonMoyen\"))\n",
    "\n",
    "val dfCovid_1DataSourceLieuxGroupFinal = dfCovid_1DataSourceLieuxGroup.\n",
    "    withColumn(\"locat\", split($\"Lieu\", \"#\")).\n",
    "    select($\"V2SOURCECOMMONNAME\",$\"Jour\",$\"locat\".getItem(1), $\"NbArticles\", $\"TonMoyen\")\n",
    "\n",
    "//dfCovid_1DataSourceLieuxGroupFinal.show()\n",
    "\n",
    "dfCovid_1DataSourceLieuxGroupFinal.write.csv(\"s3://axel-michalewicz-telecom/requete3/Lieux/fev01ENG\")"
   ]
  }
 ],
 "metadata": {
  "kernelspec": {
   "display_name": "Spark",
   "language": "",
   "name": "sparkkernel"
  },
  "language_info": {
   "codemirror_mode": "text/x-scala",
   "mimetype": "text/x-scala",
   "name": "scala",
   "pygments_lexer": "scala"
  }
 },
 "nbformat": 4,
 "nbformat_minor": 4
}
